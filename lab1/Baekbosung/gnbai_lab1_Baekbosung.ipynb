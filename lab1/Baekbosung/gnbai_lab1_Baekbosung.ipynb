{
  "nbformat": 4,
  "nbformat_minor": 0,
  "metadata": {
    "colab": {
      "name": "gnbai_lab1_Baekbosung",
      "provenance": [],
      "collapsed_sections": [],
      "toc_visible": true,
      "include_colab_link": true
    },
    "kernelspec": {
      "name": "python3",
      "display_name": "Python 3"
    },
    "accelerator": "GPU"
  },
  "cells": [
    {
      "cell_type": "markdown",
      "metadata": {
        "id": "view-in-github",
        "colab_type": "text"
      },
      "source": [
        "<a href=\"https://colab.research.google.com/github/yh08037/gnbai20201/blob/master/lab1/Baekbosung/gnbai_lab1_Baekbosung.ipynb\" target=\"_parent\"><img src=\"https://colab.research.google.com/assets/colab-badge.svg\" alt=\"Open In Colab\"/></a>"
      ]
    },
    {
      "cell_type": "markdown",
      "metadata": {
        "id": "MIaZtGHv4Czd",
        "colab_type": "text"
      },
      "source": [
        "# GnB AI Project Assignment\n",
        "## Lab 1 : Linear Regression\n",
        "### Tasks\n",
        "1. data_lab1.txt의 데이터를 읽고, 출력값을 입력값에 대해 plot하여라.\n",
        "2. 배치 경사 하강법을 사용해서 선형 회귀 모델을 학습시켜라. 파라미터의 최적값은 무엇인가?\n",
        "3. 확률적 경사 하강법을 사용해서 선형 회귀 모델을 학습시켜라. 파라미터의 최적값은 무엇인가?\n",
        "4. 최소 제곱법을 사용해서 선형 회귀 모델을 학습시켜라. 파라미터의 최적값은 무엇인가?\n",
        "5. 원본 데이터 위에 2, 3, 4에서 얻은 회귀자를 plot하여라.\n",
        "6. train.txt에 대하여 같은 작업을 반복하고, test.txt로 모델을 평가하여라."
      ]
    },
    {
      "cell_type": "markdown",
      "metadata": {
        "id": "k70fut0c4swH",
        "colab_type": "text"
      },
      "source": [
        "### Imports"
      ]
    },
    {
      "cell_type": "code",
      "metadata": {
        "id": "3xw6Alc-4u6I",
        "colab_type": "code",
        "colab": {}
      },
      "source": [
        "import numpy as np\n",
        "import pandas as pd\n",
        "import matplotlib.pyplot as plt\n",
        "import time"
      ],
      "execution_count": 0,
      "outputs": []
    },
    {
      "cell_type": "markdown",
      "metadata": {
        "id": "xm2zq1Hk_Qvc",
        "colab_type": "text"
      },
      "source": [
        "### Numpy basics"
      ]
    },
    {
      "cell_type": "code",
      "metadata": {
        "id": "ANunkYne_TZ5",
        "colab_type": "code",
        "outputId": "358871f4-4660-43c8-a55b-fec9cfa41ed8",
        "colab": {
          "base_uri": "https://localhost:8080/",
          "height": 89
        }
      },
      "source": [
        "a = np.array([[2, 0], [0, 2]])\n",
        "b = np.array([[4, 1], [2, 2]])\n",
        "print(a)\n",
        "print(b)"
      ],
      "execution_count": 0,
      "outputs": [
        {
          "output_type": "stream",
          "text": [
            "[[2 0]\n",
            " [0 2]]\n",
            "[[4 1]\n",
            " [2 2]]\n"
          ],
          "name": "stdout"
        }
      ]
    },
    {
      "cell_type": "code",
      "metadata": {
        "id": "E8B1kR-s_pMl",
        "colab_type": "code",
        "outputId": "7bfb6c68-b91b-45c5-cfaf-19d814de54c0",
        "colab": {
          "base_uri": "https://localhost:8080/",
          "height": 125
        }
      },
      "source": [
        "c = np.matmul(a, b)     # 행렬곱\n",
        "d = np.transpose(c)     # 전치행렬\n",
        "e = np.linalg.inv(d)    # 역행렬\n",
        "print(c)\n",
        "print(d)\n",
        "print(e)"
      ],
      "execution_count": 0,
      "outputs": [
        {
          "output_type": "stream",
          "text": [
            "[[8 2]\n",
            " [4 4]]\n",
            "[[8 4]\n",
            " [2 4]]\n",
            "[[ 0.16666667 -0.16666667]\n",
            " [-0.08333333  0.33333333]]\n"
          ],
          "name": "stdout"
        }
      ]
    },
    {
      "cell_type": "markdown",
      "metadata": {
        "id": "CHJuoX1_4VLQ",
        "colab_type": "text"
      },
      "source": [
        "### 1. Read and plot data\n"
      ]
    },
    {
      "cell_type": "code",
      "metadata": {
        "id": "MFH1MIwy3-u5",
        "colab_type": "code",
        "outputId": "33617e8f-33aa-4530-bae4-c61db8759205",
        "colab": {
          "base_uri": "https://localhost:8080/",
          "height": 53
        }
      },
      "source": [
        "# pandas를 통해 txt 파일 읽어오기\n",
        "name_file = '/content/drive/My Drive/Colab Notebooks/test.txt'\n",
        "columns = ['x', 'y']\n",
        "\n",
        "data_in = pd.read_csv(name_file, names=columns, sep='\t')\n",
        "\n",
        "# pandas dataframe으로부터 numpy 행렬로 바꾸기\n",
        "x = np.asarray(data_in['x'])\n",
        "y = np.asarray(data_in['y'])\n",
        "\n",
        "print(\"shape of x :\", x.shape)\n",
        "print(\"shape of y :\", y.shape)"
      ],
      "execution_count": 79,
      "outputs": [
        {
          "output_type": "stream",
          "text": [
            "shape of x : (60,)\n",
            "shape of y : (60,)\n"
          ],
          "name": "stdout"
        }
      ]
    },
    {
      "cell_type": "code",
      "metadata": {
        "id": "VKHnHEi2YAD0",
        "colab_type": "code",
        "outputId": "8b2af295-b454-4552-f24d-60d3dc64786a",
        "colab": {
          "base_uri": "https://localhost:8080/",
          "height": 127
        }
      },
      "source": [
        "from google.colab import drive\n",
        "drive.mount('/content/drive')"
      ],
      "execution_count": 8,
      "outputs": [
        {
          "output_type": "stream",
          "text": [
            "Go to this URL in a browser: https://accounts.google.com/o/oauth2/auth?client_id=947318989803-6bn6qk8qdgf4n4g3pfee6491hc0brc4i.apps.googleusercontent.com&redirect_uri=urn%3aietf%3awg%3aoauth%3a2.0%3aoob&response_type=code&scope=email%20https%3a%2f%2fwww.googleapis.com%2fauth%2fdocs.test%20https%3a%2f%2fwww.googleapis.com%2fauth%2fdrive%20https%3a%2f%2fwww.googleapis.com%2fauth%2fdrive.photos.readonly%20https%3a%2f%2fwww.googleapis.com%2fauth%2fpeopleapi.readonly\n",
            "\n",
            "Enter your authorization code:\n",
            "··········\n",
            "Mounted at /content/drive\n"
          ],
          "name": "stdout"
        }
      ]
    },
    {
      "cell_type": "code",
      "metadata": {
        "id": "hfmNe7fy-UU_",
        "colab_type": "code",
        "outputId": "c70ccc72-55bb-4564-9706-14eff3e46424",
        "colab": {
          "base_uri": "https://localhost:8080/",
          "height": 295
        }
      },
      "source": [
        "# plt를 통해 데이터 plot 하기\n",
        "plt.plot(x, y, 'ro', label='original data')\n",
        "plt.xlabel('x')\n",
        "plt.ylabel('y')\n",
        "plt.title('Plot Original Data')\n",
        "plt.legend()\n",
        "plt.show()"
      ],
      "execution_count": 80,
      "outputs": [
        {
          "output_type": "display_data",
          "data": {
            "image/png": "[encoded data removed]",
            "text/plain": [
              "<Figure size 432x288 with 1 Axes>"
            ]
          },
          "metadata": {
            "tags": []
          }
        }
      ]
    },
    {
      "cell_type": "code",
      "metadata": {
        "id": "uV6PHqio7PsL",
        "colab_type": "code",
        "outputId": "a344309e-0396-42cd-a8cf-2827f6d9478c",
        "colab": {
          "base_uri": "https://localhost:8080/",
          "height": 53
        }
      },
      "source": [
        "# x에 x0=1에 해당하는 열을 추가하여 x를 reshape하기\n",
        "# 정상적으로 코딩했다면 x의 shape는 (100,)에서 (100, 2)가 되어야함\n",
        "x = np.column_stack((np.ones_like(x), x))\n",
        "print('shape of x', x.shape)\n",
        "\n",
        "# 현재 1차원 배열 y를 열벡터로 reshape하기\n",
        "# 정상적으로 코딩했다면 x의 shape는 (100,)에서 (100, 1)이 되어야함\n",
        "y = y.reshape(-1, 1)\n",
        "print('shape of y', y.shape)"
      ],
      "execution_count": 81,
      "outputs": [
        {
          "output_type": "stream",
          "text": [
            "shape of x (60, 2)\n",
            "shape of y (60, 1)\n"
          ],
          "name": "stdout"
        }
      ]
    },
    {
      "cell_type": "code",
      "metadata": {
        "id": "VnZQN5lNLjUG",
        "colab_type": "code",
        "outputId": "c5358b5c-3892-45f4-bc6b-f792c8314541",
        "colab": {
          "base_uri": "https://localhost:8080/",
          "height": 377
        }
      },
      "source": [
        "# x의 첫 10개의 데이터 출력해보기\n",
        "print(x[:10])\n",
        "\n",
        "# y의 첫 10개의 데이터 출력해보기\n",
        "print(y[:10])"
      ],
      "execution_count": 82,
      "outputs": [
        {
          "output_type": "stream",
          "text": [
            "[[ 1.    8.87]\n",
            " [ 1.    8.35]\n",
            " [ 1.    5.14]\n",
            " [ 1.   10.14]\n",
            " [ 1.   16.09]\n",
            " [ 1.    3.06]\n",
            " [ 1.   10.36]\n",
            " [ 1.   14.  ]\n",
            " [ 1.   15.48]\n",
            " [ 1.    5.58]]\n",
            "[[33.969]\n",
            " [33.87 ]\n",
            " [34.   ]\n",
            " [32.657]\n",
            " [33.864]\n",
            " [34.52 ]\n",
            " [33.579]\n",
            " [33.698]\n",
            " [33.77 ]\n",
            " [34.167]]\n"
          ],
          "name": "stdout"
        }
      ]
    },
    {
      "cell_type": "markdown",
      "metadata": {
        "id": "mcTXZ6UtOd0y",
        "colab_type": "text"
      },
      "source": [
        "#### 참고 : 주요 행렬들의 shape\n",
        "\n",
        "행렬 x의 shape는 [I, N+1]입니다!\n",
        "\n",
        "행렬 y의 shape는 [I, 1]입니다!\n",
        "\n",
        "행렬 theta의 shape는 [N+1, 1]입니다!\n"
      ]
    },
    {
      "cell_type": "code",
      "metadata": {
        "id": "7MCp79G5KDty",
        "colab_type": "code",
        "colab": {}
      },
      "source": [
        "# I : 입력 데이터의 개수\n",
        "# N : 입력 데이터의 차원\n",
        "I = x.shape[0]\n",
        "N = x.shape[1] - 1"
      ],
      "execution_count": 0,
      "outputs": []
    },
    {
      "cell_type": "code",
      "metadata": {
        "id": "OqD4N_POObiN",
        "colab_type": "code",
        "colab": {}
      },
      "source": [
        "# 학습률, 에포크 수 설정 \n",
        "# 두개의 값을 바꿔보면서 아래의 결과가 어떻게 다르게 나오는지 관찰해보세요!\n",
        "alpha = 0.001\n",
        "max_epoch = 10000 "
      ],
      "execution_count": 0,
      "outputs": []
    },
    {
      "cell_type": "markdown",
      "metadata": {
        "id": "LeLBnb6q5dR2",
        "colab_type": "text"
      },
      "source": [
        "### 2. Batch Gradient Descent"
      ]
    },
    {
      "cell_type": "code",
      "metadata": {
        "id": "KirU-2ki5iVm",
        "colab_type": "code",
        "outputId": "30ae76c3-35be-4293-ccb9-037e348bd044",
        "colab": {
          "base_uri": "https://localhost:8080/",
          "height": 143
        }
      },
      "source": [
        "# 타이머 시작\n",
        "start = time.time()\n",
        "\n",
        "# 파라미터 랜덤 초기화\n",
        "theta_BGD = np.random.rand(N+1, 1)\n",
        "\n",
        "# 메인 루프\n",
        "for epoch in range(max_epoch):\n",
        "    # n 루프를 도는 중에 변경된 theta값을 사용하면 안되므로, 미리 값을 저장하여 사용합니다.\n",
        "    theta_BGD_tp = np.transpose(theta_BGD)\n",
        "    for n in range(0, N+1):\n",
        "        gradient = 0.\n",
        "        for i in range(0, I):\n",
        "            gradient += (np.matmul(theta_BGD_tp, x[i]) - y[i]) * x[i][n]\n",
        "        theta_BGD[n] = theta_BGD[n] - alpha * gradient\n",
        "\n",
        "# 학습에 소요된 시간 출력\n",
        "print('time :', time.time() - start)\n",
        "\n",
        "# 학습된 파라미터 출력\n",
        "print(theta_BGD)"
      ],
      "execution_count": 85,
      "outputs": [
        {
          "output_type": "stream",
          "text": [
            "/usr/local/lib/python3.6/dist-packages/ipykernel_launcher.py:13: RuntimeWarning: overflow encountered in add\n",
            "  del sys.path[0]\n",
            "/usr/local/lib/python3.6/dist-packages/ipykernel_launcher.py:13: RuntimeWarning: invalid value encountered in matmul\n",
            "  del sys.path[0]\n"
          ],
          "name": "stderr"
        },
        {
          "output_type": "stream",
          "text": [
            "time : 6.229804039001465\n",
            "[[nan]\n",
            " [nan]]\n"
          ],
          "name": "stdout"
        }
      ]
    },
    {
      "cell_type": "markdown",
      "metadata": {
        "id": "CVErhCBQ5int",
        "colab_type": "text"
      },
      "source": [
        "### 3. Stochastic Gradient Descent"
      ]
    },
    {
      "cell_type": "code",
      "metadata": {
        "id": "Off1xLl15kvn",
        "colab_type": "code",
        "outputId": "f63b5127-9163-456e-8188-e0fd7e408373",
        "colab": {
          "base_uri": "https://localhost:8080/",
          "height": 71
        }
      },
      "source": [
        "# 타이머 시작\n",
        "start = time.time()\n",
        "# 파라미터 랜덤 초기화\n",
        "theta_SGD = np.random.rand(N+1, 1)\n",
        "# 메인 루프\n",
        "for epoch in range(max_epoch):\n",
        "  theta_SGD_tp = np.transpose(theta_SGD)\n",
        "  for n in range(0, N+1):\n",
        "    i = np.random.randint(1,I)\n",
        "    theta_SGD[n] = theta_SGD[n] - alpha*(np.matmul(theta_SGD_tp,x[i]) - y[i])*x[i][n]\n",
        "\n",
        "# 학습에 소요된 시간 출력\n",
        "print('time :', time.time() - start)\n",
        "# 학습된 파라미터 출력\n",
        "print(theta_SGD)"
      ],
      "execution_count": 86,
      "outputs": [
        {
          "output_type": "stream",
          "text": [
            "time : 0.36745190620422363\n",
            "[[24.21490918]\n",
            " [ 0.90609967]]\n"
          ],
          "name": "stdout"
        }
      ]
    },
    {
      "cell_type": "markdown",
      "metadata": {
        "id": "AJOqPSHz5lka",
        "colab_type": "text"
      },
      "source": [
        "### 4. Ordinary Least Squares"
      ]
    },
    {
      "cell_type": "code",
      "metadata": {
        "id": "sd7MKJYe5q-T",
        "colab_type": "code",
        "colab": {
          "base_uri": "https://localhost:8080/",
          "height": 71
        },
        "outputId": "88233918-5d0d-4986-8d07-05a85679b5a6"
      },
      "source": [
        "# 타이머 시작\n",
        "start = time.time()\n",
        "# 공식으로 파라미터 계산\n",
        "a=np.linalg.inv(np.matmul(np.transpose(x), x))\n",
        "b=np.matmul(np.transpose(x), y)\n",
        "theta_OLS = np.matmul(a, b)\n",
        "# 계산에 소요된 시간 출력\n",
        "print('time: ', time.time()-start)\n",
        "# 파라미터 출력\n",
        "print(theta_OLS)"
      ],
      "execution_count": 87,
      "outputs": [
        {
          "output_type": "stream",
          "text": [
            "time:  0.0003345012664794922\n",
            "[[34.39578149]\n",
            " [-0.08260418]]\n"
          ],
          "name": "stdout"
        }
      ]
    },
    {
      "cell_type": "markdown",
      "metadata": {
        "id": "p-LR77Pw5rcO",
        "colab_type": "text"
      },
      "source": [
        "### 5. Plot linear regressors over original dataset"
      ]
    },
    {
      "cell_type": "code",
      "metadata": {
        "id": "JjqmGPeK5yks",
        "colab_type": "code",
        "colab": {
          "base_uri": "https://localhost:8080/",
          "height": 265
        },
        "outputId": "6f3f02c3-00b5-4ad9-fa3e-6d0760b7546d"
      },
      "source": [
        "# plt를 통해 원본 데이터와 3개의 회귀자 plot 하기\n",
        "plt.plot(x[:, 1], y, 'ro', label='Original data')\n",
        "q1 = theta_BGD[0, 0] + theta_BGD[1, 0] * x[:, 1]\n",
        "q2 = theta_SGD[0, 0] + theta_SGD[1, 0] * x[:, 1]\n",
        "q3 = theta_OLS[0, 0] + theta_OLS[1, 0] * x[:, 1]\n",
        "plt.plot(x[:, 1], q1, label='BGD')\n",
        "plt.plot(x[:, 1], q2, label='SGD')\n",
        "plt.plot(x[:, 1], q3, label='OLS')\n",
        "# 그래프 상에 원본 데이터의 산점도와 직선 3개가 그려져있어야함\n",
        "plt.legend()\n",
        "plt.show()\n"
      ],
      "execution_count": 88,
      "outputs": [
        {
          "output_type": "display_data",
          "data": {
            "image/png": "[encoded data removed]",
            "text/plain": [
              "<Figure size 432x288 with 1 Axes>"
            ]
          },
          "metadata": {
            "tags": []
          }
        }
      ]
    },
    {
      "cell_type": "markdown",
      "metadata": {
        "id": "0JXiD26q5yxk",
        "colab_type": "text"
      },
      "source": [
        "### 6. Train and evaluate with new data"
      ]
    },
    {
      "cell_type": "code",
      "metadata": {
        "id": "iwGWLEZW54-G",
        "colab_type": "code",
        "colab": {}
      },
      "source": [
        "# train.txt로 위와 같은 과정을 통해 3가지 모델을 학습하고 plot\n",
        "\n",
        "\n",
        "# test.txt의 새로운 데이터로 3가지 모델을 평가해보기\n",
        "# test.txt의 x를 입력으로 해서 나온 y_hat과, test.txt의 y로 error를 구하여 출력한다.\n",
        "\n"
      ],
      "execution_count": 0,
      "outputs": []
    }
  ]
}
