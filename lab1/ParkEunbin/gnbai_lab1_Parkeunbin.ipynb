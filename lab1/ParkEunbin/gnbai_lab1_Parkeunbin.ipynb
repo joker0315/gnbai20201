{
  "nbformat": 4,
  "nbformat_minor": 0,
  "metadata": {
    "colab": {
      "name": "gnbai_lab1_Parkeunbin",
      "provenance": [],
      "collapsed_sections": [],
      "include_colab_link": true
    },
    "kernelspec": {
      "name": "python3",
      "display_name": "Python 3"
    },
    "accelerator": "GPU"
  },
  "cells": [
    {
      "cell_type": "markdown",
      "metadata": {
        "id": "view-in-github",
        "colab_type": "text"
      },
      "source": [
        "<a href=\"https://colab.research.google.com/github/ParkEunbin/gnbai20201/blob/master/lab1/ParkEunbin/gnbai_lab1_Parkeunbin.ipynb\" target=\"_parent\"><img src=\"https://colab.research.google.com/assets/colab-badge.svg\" alt=\"Open In Colab\"/></a>"
      ]
    },
    {
      "cell_type": "markdown",
      "metadata": {
        "id": "MIaZtGHv4Czd",
        "colab_type": "text"
      },
      "source": [
        "# GnB AI Project Assignment\n",
        "## Lab 1 : Linear Regression\n",
        "### Tasks\n",
        "1. data_lab1.txt의 데이터를 읽고, 출력값을 입력값에 대해 plot하여라.\n",
        "2. 배치 경사 하강법을 사용해서 선형 회귀 모델을 학습시켜라. 파라미터의 최적값은 무엇인가?\n",
        "3. 확률적 경사 하강법을 사용해서 선형 회귀 모델을 학습시켜라. 파라미터의 최적값은 무엇인가?\n",
        "4. 최소 제곱법을 사용해서 선형 회귀 모델을 학습시켜라. 파라미터의 최적값은 무엇인가?\n",
        "5. 원본 데이터 위에 2, 3, 4에서 얻은 회귀자를 plot하여라.\n",
        "6. train.txt에 대하여 같은 작업을 반복하고, test.txt로 모델을 평가하여라."
      ]
    },
    {
      "cell_type": "markdown",
      "metadata": {
        "id": "k70fut0c4swH",
        "colab_type": "text"
      },
      "source": [
        "### Imports"
      ]
    },
    {
      "cell_type": "code",
      "metadata": {
        "id": "3xw6Alc-4u6I",
        "colab_type": "code",
        "colab": {}
      },
      "source": [
        "import numpy as np\n",
        "import pandas as pd\n",
        "import matplotlib.pyplot as plt\n",
        "import time"
      ],
      "execution_count": 0,
      "outputs": []
    },
    {
      "cell_type": "markdown",
      "metadata": {
        "id": "xm2zq1Hk_Qvc",
        "colab_type": "text"
      },
      "source": [
        "### Numpy basics"
      ]
    },
    {
      "cell_type": "markdown",
      "metadata": {
        "id": "HureEgPaHEjZ",
        "colab_type": "text"
      },
      "source": [
        ""
      ]
    },
    {
      "cell_type": "code",
      "metadata": {
        "id": "ANunkYne_TZ5",
        "colab_type": "code",
        "outputId": "fa70a1a8-6746-48a2-8df6-fdd20420da78",
        "colab": {
          "base_uri": "https://localhost:8080/",
          "height": 87
        }
      },
      "source": [
        "a = np.array([[2, 0], [0, 2]])\n",
        "b = np.array([[4, 1], [2, 2]])\n",
        "print(a)\n",
        "print(b)"
      ],
      "execution_count": 6,
      "outputs": [
        {
          "output_type": "stream",
          "text": [
            "[[2 0]\n",
            " [0 2]]\n",
            "[[4 1]\n",
            " [2 2]]\n"
          ],
          "name": "stdout"
        }
      ]
    },
    {
      "cell_type": "code",
      "metadata": {
        "id": "E8B1kR-s_pMl",
        "colab_type": "code",
        "outputId": "557cc7b1-12a9-49e2-9a9b-a5e20052ca77",
        "colab": {
          "base_uri": "https://localhost:8080/",
          "height": 122
        }
      },
      "source": [
        "c = np.matmul(a, b)     # 행렬곱\n",
        "d = np.transpose(c)     # 전치행렬\n",
        "e = np.linalg.inv(d)    # 역행렬\n",
        "print(c)\n",
        "print(d)\n",
        "print(e)"
      ],
      "execution_count": 7,
      "outputs": [
        {
          "output_type": "stream",
          "text": [
            "[[8 2]\n",
            " [4 4]]\n",
            "[[8 4]\n",
            " [2 4]]\n",
            "[[ 0.16666667 -0.16666667]\n",
            " [-0.08333333  0.33333333]]\n"
          ],
          "name": "stdout"
        }
      ]
    },
    {
      "cell_type": "markdown",
      "metadata": {
        "id": "CHJuoX1_4VLQ",
        "colab_type": "text"
      },
      "source": [
        "### 1. Read and plot data\n"
      ]
    },
    {
      "cell_type": "code",
      "metadata": {
        "id": "MFH1MIwy3-u5",
        "colab_type": "code",
        "outputId": "6d2947c4-e21d-482c-c7f3-b59bae4c0da3",
        "colab": {
          "base_uri": "https://localhost:8080/",
          "height": 52
        }
      },
      "source": [
        "# pandas를 통해 txt 파일 읽어오기\n",
        "name_file = './data_lab1.txt'\n",
        "columns = ['x', 'y']\n",
        "\n",
        "data_in = pd.read_csv(name_file, names=columns, sep=' ')\n",
        "\n",
        "# pandas dataframe으로부터 numpy 행렬로 바꾸기\n",
        "x = np.asarray(data_in['x'])\n",
        "y = np.asarray(data_in['y'])\n",
        "\n",
        "print(\"shape of x :\", x.shape)\n",
        "print(\"shape of y :\", y.shape)"
      ],
      "execution_count": 8,
      "outputs": [
        {
          "output_type": "stream",
          "text": [
            "shape of x : (100,)\n",
            "shape of y : (100,)\n"
          ],
          "name": "stdout"
        }
      ]
    },
    {
      "cell_type": "code",
      "metadata": {
        "id": "hfmNe7fy-UU_",
        "colab_type": "code",
        "outputId": "1d3a5740-6eaa-451c-a4f8-144bcf348137",
        "colab": {
          "base_uri": "https://localhost:8080/",
          "height": 330
        }
      },
      "source": [
        "# plt를 통해 데이터 plot 하기\n",
        "\n",
        "print(x[:10])\n",
        "plt.plot(x, y, 'ro', label='original data')\n",
        "plt.xlabel('x')\n",
        "plt.ylabel('y')\n",
        "plt.title('Plot Original Data')\n",
        "plt.legend()\n",
        "plt.show()"
      ],
      "execution_count": 9,
      "outputs": [
        {
          "output_type": "stream",
          "text": [
            "[0.         0.02020202 0.04040404 0.06060606 0.08080808 0.1010101\n",
            " 0.12121212 0.14141414 0.16161616 0.18181818]\n"
          ],
          "name": "stdout"
        },
        {
          "output_type": "display_data",
          "data": {
            "image/png": "[encoded data removed]",
            "text/plain": [
              "<Figure size 432x288 with 1 Axes>"
            ]
          },
          "metadata": {
            "tags": []
          }
        }
      ]
    },
    {
      "cell_type": "code",
      "metadata": {
        "id": "uV6PHqio7PsL",
        "colab_type": "code",
        "outputId": "2714c763-1691-45d1-f0b1-aec7031e5231",
        "colab": {
          "base_uri": "https://localhost:8080/",
          "height": 52
        }
      },
      "source": [
        "# x에 x0=1에 해당하는 열을 추가하여 x를 reshape하기\n",
        "# 정상적으로 코딩했다면 x의 shape는 (100,)에서 (100, 2)가 되어야함\n",
        "x = np.column_stack((np.ones_like(x), x))\n",
        "print('shape of x', x.shape)\n",
        "\n",
        "# 현재 1차원 배열 y를 열벡터로 reshape하기\n",
        "# 정상적으로 코딩했다면 x의 shape는 (100,)에서 (100, 1)이 되어야함\n",
        "y = y.reshape(-1, 1)\n",
        "print('shape of y', y.shape)"
      ],
      "execution_count": 10,
      "outputs": [
        {
          "output_type": "stream",
          "text": [
            "shape of x (100, 2)\n",
            "shape of y (100, 1)\n"
          ],
          "name": "stdout"
        }
      ]
    },
    {
      "cell_type": "code",
      "metadata": {
        "id": "VnZQN5lNLjUG",
        "colab_type": "code",
        "outputId": "3a36c557-9b49-479c-a88d-36aeb3d963d0",
        "colab": {
          "base_uri": "https://localhost:8080/",
          "height": 369
        }
      },
      "source": [
        "# x의 첫 10개의 데이터 출력해보기\n",
        "print(x[:10])\n",
        "\n",
        "# y의 첫 10개의 데이터 출력해보기\n",
        "print(y[:10])"
      ],
      "execution_count": 11,
      "outputs": [
        {
          "output_type": "stream",
          "text": [
            "[[1.         0.        ]\n",
            " [1.         0.02020202]\n",
            " [1.         0.04040404]\n",
            " [1.         0.06060606]\n",
            " [1.         0.08080808]\n",
            " [1.         0.1010101 ]\n",
            " [1.         0.12121212]\n",
            " [1.         0.14141414]\n",
            " [1.         0.16161616]\n",
            " [1.         0.18181818]]\n",
            "[[0.68578517]\n",
            " [1.67173466]\n",
            " [2.40627588]\n",
            " [0.3751675 ]\n",
            " [4.35594913]\n",
            " [2.10969915]\n",
            " [2.79043498]\n",
            " [3.10140969]\n",
            " [2.27021292]\n",
            " [3.04895187]]\n"
          ],
          "name": "stdout"
        }
      ]
    },
    {
      "cell_type": "markdown",
      "metadata": {
        "id": "mcTXZ6UtOd0y",
        "colab_type": "text"
      },
      "source": [
        "#### 참고 : 주요 행렬들의 shape\n",
        "\n",
        "행렬 x의 shape는 [I, N+1]입니다!\n",
        "\n",
        "행렬 y의 shape는 [I, 1]입니다!\n",
        "\n",
        "행렬 theta의 shape는 [N+1, 1]입니다!\n"
      ]
    },
    {
      "cell_type": "code",
      "metadata": {
        "id": "7MCp79G5KDty",
        "colab_type": "code",
        "colab": {}
      },
      "source": [
        "# I : 입력 데이터의 개수\n",
        "# N : 입력 데이터의 차원\n",
        "I = x.shape[0]\n",
        "N = x.shape[1] - 1"
      ],
      "execution_count": 0,
      "outputs": []
    },
    {
      "cell_type": "code",
      "metadata": {
        "id": "OqD4N_POObiN",
        "colab_type": "code",
        "colab": {}
      },
      "source": [
        "# 학습률, 에포크 수 설정 \n",
        "# 두개의 값을 바꿔보면서 아래의 결과가 어떻게 다르게 나오는지 관찰해보세요!\n",
        "alpha = 0.001\n",
        "max_epoch = 10000 "
      ],
      "execution_count": 0,
      "outputs": []
    },
    {
      "cell_type": "markdown",
      "metadata": {
        "id": "LeLBnb6q5dR2",
        "colab_type": "text"
      },
      "source": [
        "### 2. Batch Gradient Descent"
      ]
    },
    {
      "cell_type": "code",
      "metadata": {
        "id": "KirU-2ki5iVm",
        "colab_type": "code",
        "outputId": "ac6fdb1d-5173-4b3a-aaba-c0c464d005a6",
        "colab": {
          "base_uri": "https://localhost:8080/",
          "height": 70
        }
      },
      "source": [
        "# 타이머 시작\n",
        "start = time.time()\n",
        "\n",
        "# 파라미터 랜덤 초기화\n",
        "theta_BGD1 = np.random.rand(N+1, 1)\n",
        "\n",
        "# 메인 루프\n",
        "for epoch in range(max_epoch):\n",
        "    # n 루프를 도는 중에 변경된 theta값을 사용하면 안되므로, 미리 값을 저장하여 사용합니다.\n",
        "    theta_BGD_tp = np.transpose(theta_BGD1)\n",
        "    for n in range(0, N+1):\n",
        "        gradient = 0.\n",
        "        for i in range(0, I):\n",
        "            gradient += (np.matmul(theta_BGD_tp, x[i]) - y[i]) * x[i][n]\n",
        "        theta_BGD1[n] = theta_BGD1[n] - alpha * gradient\n",
        "\n",
        "# 학습에 소요된 시간 출력\n",
        "print('time :', time.time() - start)\n",
        "\n",
        "# 학습된 파라미터 출력\n",
        "print(theta_BGD1)"
      ],
      "execution_count": 14,
      "outputs": [
        {
          "output_type": "stream",
          "text": [
            "time : 10.460169076919556\n",
            "[[-0.94710665]\n",
            " [10.23574237]]\n"
          ],
          "name": "stdout"
        }
      ]
    },
    {
      "cell_type": "markdown",
      "metadata": {
        "id": "CVErhCBQ5int",
        "colab_type": "text"
      },
      "source": [
        "### 3. Stochastic Gradient Descent"
      ]
    },
    {
      "cell_type": "code",
      "metadata": {
        "id": "Off1xLl15kvn",
        "colab_type": "code",
        "outputId": "ab55cce1-cdfa-4c79-e5c8-8c8baed59668",
        "colab": {
          "base_uri": "https://localhost:8080/",
          "height": 70
        }
      },
      "source": [
        "# 타이머 시작\n",
        "start = time.time()\n",
        "# 파라미터 랜덤 초기화\n",
        "theta_BGD2 = np.random.rand(N+1, 1)\n",
        "# 메인 루프\n",
        "for epoch in range(max_epoch):\n",
        "  theta_BGD_tp = np.transpose(theta_BGD2)\n",
        "  for n in range(0,N+1):\n",
        "    i=np.random.randint(1,I)\n",
        "    theta_BGD2[n] = theta_BGD2[n] - alpha * (np.matmul(theta_BGD_tp, x[i]) - y[i]) * x[i][n]\n",
        "\n",
        "# 학습에 소요된 시간 출력\n",
        "print('time :', time.time() - start)\n",
        "# 학습된 파라미터 출력\n",
        "print(theta_BGD2)"
      ],
      "execution_count": 15,
      "outputs": [
        {
          "output_type": "stream",
          "text": [
            "time : 0.25914502143859863\n",
            "[[0.2091309]\n",
            " [9.1632692]]\n"
          ],
          "name": "stdout"
        }
      ]
    },
    {
      "cell_type": "markdown",
      "metadata": {
        "id": "AJOqPSHz5lka",
        "colab_type": "text"
      },
      "source": [
        "### 4. Ordinary Least Squares"
      ]
    },
    {
      "cell_type": "code",
      "metadata": {
        "id": "sd7MKJYe5q-T",
        "colab_type": "code",
        "outputId": "5b8c3c75-e97c-4834-d9b3-f19eec77ebe0",
        "colab": {
          "base_uri": "https://localhost:8080/",
          "height": 70
        }
      },
      "source": [
        "# 타이머 시작\n",
        "start = time.time()\n",
        "# 공식으로 파라미터 계산\n",
        "theta_BGD3 =np.matmul(np.linalg.inv(np.matmul(np.transpose(x),x)),np.matmul(np.transpose(x),y))\n",
        "# 계산에 소요된 시간 출력\n",
        "print('time :', time.time() - start)\n",
        "# 파라미터 출력\n",
        "print(theta_BGD3)"
      ],
      "execution_count": 16,
      "outputs": [
        {
          "output_type": "stream",
          "text": [
            "time : 0.0015079975128173828\n",
            "[[-0.94710665]\n",
            " [10.23574237]]\n"
          ],
          "name": "stdout"
        }
      ]
    },
    {
      "cell_type": "markdown",
      "metadata": {
        "id": "p-LR77Pw5rcO",
        "colab_type": "text"
      },
      "source": [
        "### 5. Plot linear regressors over original dataset"
      ]
    },
    {
      "cell_type": "code",
      "metadata": {
        "id": "JjqmGPeK5yks",
        "colab_type": "code",
        "outputId": "99abc23f-f267-454f-89f0-036c31621465",
        "colab": {
          "base_uri": "https://localhost:8080/",
          "height": 295
        }
      },
      "source": [
        "# plt를 통해 원본 데이터와 3개의 회귀자 plot 하기\n",
        "# 그래프 상에 원본 데이터의 산점도와 직선 3개가 그려져있어야함\n",
        "\n",
        "\n",
        "y1=theta_BGD1[0]+theta_BGD1[1]*x[:,1]\n",
        "y2=theta_BGD2[0]+theta_BGD2[1]*x[:,1]\n",
        "y3=theta_BGD3[0]+theta_BGD3[1]*x[:,1]\n",
        "\n",
        "\n",
        "plt.plot(x[:,1], y, 'ro',x[:,1],y1,'b',x[:,1],y2,'g',x[:,1],y3,'y')\n",
        "plt.xlabel('x')\n",
        "plt.ylabel('y')\n",
        "plt.title('Plot Original Data')\n",
        "plt.show()\n",
        "#파랑이랑 노랑이랑 합쳐졌다.."
      ],
      "execution_count": 17,
      "outputs": [
        {
          "output_type": "display_data",
          "data": {
            "image/png": "[encoded data removed]",
            "text/plain": [
              "<Figure size 432x288 with 1 Axes>"
            ]
          },
          "metadata": {
            "tags": []
          }
        }
      ]
    },
    {
      "cell_type": "markdown",
      "metadata": {
        "id": "0JXiD26q5yxk",
        "colab_type": "text"
      },
      "source": [
        "### 6. Train and evaluate with new data"
      ]
    },
    {
      "cell_type": "code",
      "metadata": {
        "id": "iwGWLEZW54-G",
        "colab_type": "code",
        "outputId": "413708e1-4537-44df-f1ac-6a6e9e9f6f01",
        "colab": {
          "base_uri": "https://localhost:8080/",
          "height": 929
        }
      },
      "source": [
        "# train.txt로 위와 같은 과정을 통해 3가지 모델을 학습하고 plot\n",
        "name_file = './train.txt'\n",
        "columns = ['x', 'y']\n",
        "\n",
        "data_in = pd.read_csv(name_file, names=columns, sep='\\t')\n",
        "\n",
        "x = np.asarray(data_in['x'])\n",
        "y = np.asarray(data_in['y'])\n",
        "\n",
        "print(\"shape of x :\", x.shape)\n",
        "print(\"shape of y :\", y.shape)\n",
        "\n",
        "x = np.column_stack((np.ones_like(x), x))\n",
        "print('shape of x', x.shape)\n",
        "\n",
        "y = y.reshape(-1, 1)\n",
        "print('shape of y', y.shape)\n",
        "\n",
        "I = x.shape[0]\n",
        "N = x.shape[1] - 1\n",
        "\n",
        "print(x[:10])\n",
        "\n",
        "# y의 첫 10개의 데이터 출력해보기\n",
        "print(y[:10])\n",
        "\n",
        "alpha = 0.001\n",
        "max_epoch = 1000\n",
        "\n",
        "#=======BGD==========\n",
        "start = time.time()\n",
        "\n",
        "theta_BGD1 = np.random.rand(N+1, 1)\n",
        "\n",
        "for epoch in range(max_epoch):\n",
        "    # n 루프를 도는 중에 변경된 theta값을 사용하면 안되므로, 미리 값을 저장하여 사용합니다.\n",
        "    theta_BGD_tp = np.transpose(theta_BGD1)\n",
        "    for n in range(0, N+1):\n",
        "        gradient = 0.\n",
        "        for i in range(0, I):\n",
        "            gradient = (np.matmul(theta_BGD_tp, x[i]) - y[i]) * x[i][n]\n",
        "            theta_BGD1[n] = theta_BGD1[n] - alpha * gradient\n",
        "\n",
        "print('BGD')\n",
        "print('time :', time.time() - start)\n",
        "\n",
        "print(theta_BGD1)\n",
        "\n",
        "#=======SGD===========\n",
        "start = time.time()\n",
        "\n",
        "theta_BGD2 = np.random.rand(N+1, 1)\n",
        "\n",
        "for epoch in range(max_epoch):\n",
        "  theta_BGD_tp = np.transpose(theta_BGD2)\n",
        "  for n in range(0,N+1):\n",
        "    i=np.random.randint(1,I)\n",
        "    theta_BGD2[n] = theta_BGD2[n] - alpha * (np.matmul(theta_BGD_tp, x[i]) - y[i])* x[i][n]\n",
        "\n",
        "print('SGD')\n",
        "\n",
        "print('time :', time.time() - start)\n",
        "\n",
        "print(theta_BGD2)\n",
        "\n",
        "#=======OLS========\n",
        "\n",
        "start = time.time()\n",
        "\n",
        "theta_BGD3 =np.matmul(np.linalg.inv(np.matmul(np.transpose(x),x)),np.matmul(np.transpose(x),y))\n",
        "print('OLS')\n",
        "print('time :', time.time() - start)\n",
        "\n",
        "print(theta_BGD3)\n",
        "\n",
        "y1=theta_BGD1[0]+theta_BGD1[1]*x[:,1]\n",
        "y2=theta_BGD2[0]+theta_BGD2[1]*x[:,1]\n",
        "y3=theta_BGD3[0]+theta_BGD3[1]*x[:,1]\n",
        "plt.plot(x[:,1], y, 'ro',x[:,1],y1,'b',x[:,1],y2,'g',x[:,1],y3,'y')\n",
        "plt.xlabel('x')\n",
        "plt.ylabel('y')\n",
        "plt.title('Plot Original Data')\n",
        "plt.show()\n",
        "\n"
      ],
      "execution_count": 18,
      "outputs": [
        {
          "output_type": "stream",
          "text": [
            "shape of x : (140,)\n",
            "shape of y : (140,)\n",
            "shape of x (140, 2)\n",
            "shape of y (140, 1)\n",
            "[[ 1.    8.94]\n",
            " [ 1.    7.49]\n",
            " [ 1.    9.86]\n",
            " [ 1.    3.26]\n",
            " [ 1.   11.92]\n",
            " [ 1.    9.28]\n",
            " [ 1.    4.57]\n",
            " [ 1.   16.01]\n",
            " [ 1.   12.29]\n",
            " [ 1.   10.93]]\n",
            "[[33.479]\n",
            " [33.828]\n",
            " [33.494]\n",
            " [34.49 ]\n",
            " [33.31 ]\n",
            " [33.329]\n",
            " [34.476]\n",
            " [33.84 ]\n",
            " [33.285]\n",
            " [33.579]]\n",
            "BGD\n",
            "time : 1.799898386001587\n",
            "[[34.42847818]\n",
            " [-0.07031095]]\n",
            "SGD\n",
            "time : 0.021613121032714844\n",
            "[[5.35850425]\n",
            " [2.15890809]]\n",
            "OLS\n",
            "time : 0.0004305839538574219\n",
            "[[34.40711442]\n",
            " [-0.06812924]]\n"
          ],
          "name": "stdout"
        },
        {
          "output_type": "display_data",
          "data": {
            "image/png": "[encoded data removed]",
            "text/plain": [
              "<Figure size 432x288 with 1 Axes>"
            ]
          },
          "metadata": {
            "tags": []
          }
        }
      ]
    },
    {
      "cell_type": "code",
      "metadata": {
        "id": "99QIggCrYLWm",
        "colab_type": "code",
        "outputId": "7c064b03-a8ea-493f-8803-088bbd00f902",
        "colab": {
          "base_uri": "https://localhost:8080/",
          "height": 510
        }
      },
      "source": [
        "# test.txt의 새로운 데이터로 3가지 모델을 평가해보기\n",
        "# test.txt의 x를 입력으로 해서 나온 y_hat과, test.txt의 y로 error를 구하여 출력한다.\n",
        "\n",
        "name_file = './test.txt'\n",
        "columns = ['x', 'y']\n",
        "\n",
        "data_in = pd.read_csv(name_file, names=columns, sep='\\t')\n",
        "\n",
        "x = np.asarray(data_in['x'])\n",
        "y = np.asarray(data_in['y'])\n",
        "\n",
        "print(\"shape of x :\", x.shape)\n",
        "print(\"shape of y :\", y.shape)\n",
        "\n",
        "x = np.column_stack((np.ones_like(x), x))\n",
        "print('shape of x', x.shape)\n",
        "\n",
        "y = y.reshape(-1, 1)\n",
        "print('shape of y', y.shape)\n",
        "\n",
        "I = x.shape[0]\n",
        "N = x.shape[1] - 1\n",
        "\n",
        "print(x[:10])\n",
        "\n",
        "# y의 첫 10개의 데이터 출력해보기\n",
        "print(y[:10])\n",
        "\n",
        "alpha = 0.001\n",
        "max_epoch = 1000\n",
        "\n",
        "\n",
        "\n",
        "sse1=0\n",
        "sse2=0\n",
        "sse3=0\n",
        "for i in range(0,I):\n",
        "  sse1+=np.square(theta_BGD1[0]+theta_BGD1[1]*x[i,1]-y[i])\n",
        "  sse2+=np.square(theta_BGD2[0]+theta_BGD2[1]*x[i,1]-y[i])\n",
        "  sse3+=np.square(theta_BGD3[0]+theta_BGD3[1]*x[i,1]-y[i])\n",
        "sse1=0.5*sse1\n",
        "sse2=0.5*sse2\n",
        "sse3=0.5*sse3\n",
        "\n",
        "print(\"==SSE==\")\n",
        "print(sse1)\n",
        "print(sse2)\n",
        "print(sse3)\n",
        "\n"
      ],
      "execution_count": 19,
      "outputs": [
        {
          "output_type": "stream",
          "text": [
            "shape of x : (60,)\n",
            "shape of y : (60,)\n",
            "shape of x (60, 2)\n",
            "shape of y (60, 1)\n",
            "[[ 1.    8.87]\n",
            " [ 1.    8.35]\n",
            " [ 1.    5.14]\n",
            " [ 1.   10.14]\n",
            " [ 1.   16.09]\n",
            " [ 1.    3.06]\n",
            " [ 1.   10.36]\n",
            " [ 1.   14.  ]\n",
            " [ 1.   15.48]\n",
            " [ 1.    5.58]]\n",
            "[[33.969]\n",
            " [33.87 ]\n",
            " [34.   ]\n",
            " [32.657]\n",
            " [33.864]\n",
            " [34.52 ]\n",
            " [33.579]\n",
            " [33.698]\n",
            " [33.77 ]\n",
            " [34.167]]\n",
            "==SSE==\n",
            "[5.6293201]\n",
            "[3907.39264301]\n",
            "[5.64012348]\n"
          ],
          "name": "stdout"
        }
      ]
    }
  ]
}
