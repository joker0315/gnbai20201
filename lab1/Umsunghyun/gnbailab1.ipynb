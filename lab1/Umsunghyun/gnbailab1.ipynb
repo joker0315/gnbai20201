{
  "nbformat": 4,
  "nbformat_minor": 0,
  "metadata": {
    "colab": {
      "name": "lab1_SunghyunUm.ipynb",
      "provenance": [],
      "collapsed_sections": [],
      "authorship_tag": "ABX9TyOSseBksL59HTyGAlb8T5y7",
      "include_colab_link": true
    },
    "kernelspec": {
      "name": "python3",
      "display_name": "Python 3"
    }
  },
  "cells": [
    {
      "cell_type": "markdown",
      "metadata": {
        "id": "view-in-github",
        "colab_type": "text"
      },
      "source": [
        "<a href=\"https://colab.research.google.com/github/SunghyunUm/gnbai20201/blob/master/lab1/Umsunghyun/gnbailab1.ipynb\" target=\"_parent\"><img src=\"https://colab.research.google.com/assets/colab-badge.svg\" alt=\"Open In Colab\"/></a>"
      ]
    },
    {
      "cell_type": "code",
      "metadata": {
        "id": "gmOmeaDMStob",
        "colab_type": "code",
        "outputId": "e1b567bd-cd29-49f2-eda0-d5f1b70ee19d",
        "colab": {
          "base_uri": "https://localhost:8080/",
          "height": 367
        }
      },
      "source": [
        "import numpy as np\n",
        "import pandas as pd\n",
        "import matplotlib.pyplot as plt\n",
        "import time\n",
        "import random\n",
        "\n",
        "name_file = './data_lab1.txt'\n",
        "columns = ['x', 'y']\n",
        "\n",
        "data_in = pd.read_csv(name_file, names=columns, sep=' ')\n",
        "\n",
        "# pandas dataframe으로부터 numpy 행렬로 바꾸기\n",
        "x = np.asarray(data_in['x'])\n",
        "y = np.asarray(data_in['y'])\n",
        "\n",
        "print(\"x :\", x.shape)\n",
        "print(\"y :\", y.shape)\n",
        "\n",
        "\n",
        "# plt를 통해 데이터 plot 하기\n",
        "plt.plot(x, y, 'ro', label='original data')\n",
        "plt.xlabel('x')\n",
        "plt.ylabel('y')\n",
        "plt.title('Plot Original Data')\n",
        "plt.legend()\n",
        "plt.show()\n",
        "\n",
        "# x에 x0=1에 해당하는 열을 추가하여 x를 reshape하기\n",
        "# 정상적으로 코딩했다면 x의 shape는 (100,)에서 (100, 2)가 되어야함\n",
        "x = np.column_stack((np.ones_like(x), x))\n",
        "print('shape of x', x.shape)\n",
        "\n",
        "# 현재 1차원 배열 y를 열벡터로 reshape하기\n",
        "# 정상적으로 코딩했다면 x의 shape는 (100,)에서 (100, 1)이 되어야함\n",
        "y = y.reshape(-1, 1)\n",
        "print('shape of y', y.shape)\n",
        "\n",
        "\n",
        "# I : 입력 데이터의 개수\n",
        "# N : 입력 데이터의 차원\n",
        "I = x.shape[0]\n",
        "N = x.shape[1] - 1\n",
        "\n",
        "\n",
        "# 학습률, 에포크 수 설정 \n",
        "# 두개의 값을 바꿔보면서 아래의 결과가 어떻게 다르게 나오는지 관찰해보세요!\n",
        "alpha = 0.001\n",
        "max_epoch = 10000\n",
        "\n",
        "\n",
        "# plt를 통해 원본 데이터와 3개의 회귀자 plot 하기\n",
        "\n",
        "# 그래프 상에 원본 데이터의 산점도와 직선 3개가 그려져있어야함"
      ],
      "execution_count": 19,
      "outputs": [
        {
          "output_type": "stream",
          "text": [
            "x : (100,)\n",
            "y : (100,)\n"
          ],
          "name": "stdout"
        },
        {
          "output_type": "display_data",
          "data": {
            "image/png": "[encoded data removed]",
            "text/plain": [
              "<Figure size 432x288 with 1 Axes>"
            ]
          },
          "metadata": {
            "tags": []
          }
        },
        {
          "output_type": "stream",
          "text": [
            "shape of x (100, 2)\n",
            "shape of y (100, 1)\n"
          ],
          "name": "stdout"
        }
      ]
    },
    {
      "cell_type": "code",
      "metadata": {
        "id": "Scy21AnacyPO",
        "colab_type": "code",
        "colab": {
          "base_uri": "https://localhost:8080/",
          "height": 71
        },
        "outputId": "bb069c4d-1e33-4caa-dc5a-c7f53591dbfe"
      },
      "source": [
        "# 타이머 시작\n",
        "start = time.time()\n",
        "# 파라미터 랜덤 초기화\n",
        "theta_BGD = np.random.rand(N+1, 1)\n",
        "\n",
        "# 메인 루프\n",
        "for epoch in range(max_epoch):\n",
        "    # n 루프를 도는 중에 변경된 theta값을 사용하면 안되므로, 미리 값을 저장하여 사용합니다.\n",
        "    theta_BGD_tp = np.transpose(theta_BGD)\n",
        "    for n in range(0, N+1):\n",
        "        gradient = 0.\n",
        "        for i in range(0, I):\n",
        "            gradient += (np.matmul(theta_BGD_tp, x[i]) - y[i]) * x[i][n]\n",
        "        theta_BGD[n] = theta_BGD[n] - alpha * gradient\n",
        "\n",
        "# 학습에 소요된 시간 출력\n",
        "print('time :', time.time() - start)\n",
        "\n",
        "# 학습된 파라미터 출력\n",
        "print(theta_BGD)\n",
        "\n"
      ],
      "execution_count": 20,
      "outputs": [
        {
          "output_type": "stream",
          "text": [
            "time : 11.438347339630127\n",
            "[[-0.94710665]\n",
            " [10.23574237]]\n"
          ],
          "name": "stdout"
        }
      ]
    },
    {
      "cell_type": "code",
      "metadata": {
        "id": "2VVU9BfMdmlR",
        "colab_type": "code",
        "colab": {
          "base_uri": "https://localhost:8080/",
          "height": 71
        },
        "outputId": "49080f06-79b0-40db-f2a9-2ac07bb50b54"
      },
      "source": [
        "# SGD코드\n",
        "\n",
        "# 타이머 시작\n",
        "starts = time.time()\n",
        "# 파라미터 랜덤 초기화\n",
        "theta_SGD = np.random.rand(N+1, 1)\n",
        "# 메인 루프\n",
        "for epoch in range(max_epoch):\n",
        "    #전치행렬..넣는다 미리값저장\n",
        "    theta_SGD_tp = np.transpose(theta_SGD)\n",
        "    for n in range(0, N+1):\n",
        "        gradient = 0.\n",
        "        i = random.randint(0,I-1)\n",
        "        gradient += (np.matmul(theta_SGD_tp, x[i]) - y[i]) * x[i][n]\n",
        "        theta_SGD[n] = theta_SGD[n] - alpha * gradient\n",
        "\n",
        "# 학습에 소요된 시간 출력\n",
        "print('time :', time.time() - starts)\n",
        "# 학습된 파라미터 출력\n",
        "print(theta_SGD)\n",
        "\n",
        "\n"
      ],
      "execution_count": 27,
      "outputs": [
        {
          "output_type": "stream",
          "text": [
            "time : 0.36517786979675293\n",
            "[[0.22028051]\n",
            " [9.2098343 ]]\n"
          ],
          "name": "stdout"
        }
      ]
    },
    {
      "cell_type": "code",
      "metadata": {
        "id": "nax4YTtEeDi3",
        "colab_type": "code",
        "colab": {
          "base_uri": "https://localhost:8080/",
          "height": 71
        },
        "outputId": "d6048a3c-c906-4f35-fa89-4a2998937bc0"
      },
      "source": [
        "# 타이머 시작\n",
        "start = time.time()\n",
        "# 공식으로 파라미터 계산\n",
        "f = np.transpose(x)\n",
        "g = np.matmul(f, x)\n",
        "j = np.linalg.inv(g)\n",
        "h = np.matmul(f, y)\n",
        "theta_OLS = np.matmul(j, h)\n",
        "\n",
        "# 계산에 소요된 시간 출력\n",
        "print('time :', time.time() - start)\n",
        "# 파라미터 출력\n",
        "print(theta_OLS)\n",
        "\n"
      ],
      "execution_count": 24,
      "outputs": [
        {
          "output_type": "stream",
          "text": [
            "time : 0.0010459423065185547\n",
            "[[-0.94710665]\n",
            " [10.23574237]]\n"
          ],
          "name": "stdout"
        }
      ]
    }
  ]
}